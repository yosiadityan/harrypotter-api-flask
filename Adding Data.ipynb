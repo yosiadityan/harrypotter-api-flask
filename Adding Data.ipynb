{
 "cells": [
  {
   "cell_type": "markdown",
   "metadata": {},
   "source": [
    "# Import modules"
   ]
  },
  {
   "cell_type": "code",
   "execution_count": 1,
   "metadata": {},
   "outputs": [],
   "source": [
    "import pandas as pd\n",
    "import sqlalchemy as db\n",
    "import os\n",
    "from dotenv import load_dotenv"
   ]
  },
  {
   "cell_type": "markdown",
   "metadata": {},
   "source": [
    "# Read each file"
   ]
  },
  {
   "cell_type": "code",
   "execution_count": 2,
   "metadata": {},
   "outputs": [
    {
     "name": "stdout",
     "output_type": "stream",
     "text": [
      "Harry Potter 1.csv\n",
      "Harry Potter 2.csv\n",
      "Harry Potter 3.csv\n",
      "Potions.csv\n",
      "Spells.csv\n"
     ]
    }
   ],
   "source": [
    "for file in os.listdir(os.getcwd()+'/dataset'):\n",
    "    print(f'{file}')"
   ]
  },
  {
   "cell_type": "code",
   "execution_count": 39,
   "metadata": {},
   "outputs": [],
   "source": [
    "list_df = []\n",
    "for file in os.listdir(os.getcwd()+'/dataset'):\n",
    "    df = pd.read_csv('dataset/'+file, sep=';', encoding = 'cp1252')\n",
    "    df.name = file.split('.')[0]\n",
    "    list_df.append(df)"
   ]
  },
  {
   "cell_type": "code",
   "execution_count": 19,
   "metadata": {
    "scrolled": true
   },
   "outputs": [
    {
     "data": {
      "text/plain": [
       "'Harry Potter 1'"
      ]
     },
     "metadata": {},
     "output_type": "display_data"
    },
    {
     "data": {
      "text/plain": [
       "'Harry Potter 2'"
      ]
     },
     "metadata": {},
     "output_type": "display_data"
    },
    {
     "data": {
      "text/plain": [
       "'Harry Potter 3'"
      ]
     },
     "metadata": {},
     "output_type": "display_data"
    },
    {
     "data": {
      "text/plain": [
       "'Potions'"
      ]
     },
     "metadata": {},
     "output_type": "display_data"
    },
    {
     "data": {
      "text/plain": [
       "'Spells'"
      ]
     },
     "metadata": {},
     "output_type": "display_data"
    }
   ],
   "source": [
    "for df in list_df:\n",
    "    display(df.name)"
   ]
  },
  {
   "cell_type": "code",
   "execution_count": 21,
   "metadata": {},
   "outputs": [
    {
     "data": {
      "text/html": [
       "<div>\n",
       "<style scoped>\n",
       "    .dataframe tbody tr th:only-of-type {\n",
       "        vertical-align: middle;\n",
       "    }\n",
       "\n",
       "    .dataframe tbody tr th {\n",
       "        vertical-align: top;\n",
       "    }\n",
       "\n",
       "    .dataframe thead th {\n",
       "        text-align: right;\n",
       "    }\n",
       "</style>\n",
       "<table border=\"1\" class=\"dataframe\">\n",
       "  <thead>\n",
       "    <tr style=\"text-align: right;\">\n",
       "      <th></th>\n",
       "      <th>Character</th>\n",
       "      <th>Sentence</th>\n",
       "    </tr>\n",
       "  </thead>\n",
       "  <tbody>\n",
       "    <tr>\n",
       "      <th>185</th>\n",
       "      <td>Harry</td>\n",
       "      <td>Blown up?</td>\n",
       "    </tr>\n",
       "    <tr>\n",
       "      <th>553</th>\n",
       "      <td>Girl</td>\n",
       "      <td>Who's that girl?</td>\n",
       "    </tr>\n",
       "    <tr>\n",
       "      <th>16</th>\n",
       "      <td>Dumbledore</td>\n",
       "      <td>Albus, do you really think it's safe, leaving ...</td>\n",
       "    </tr>\n",
       "    <tr>\n",
       "      <th>571</th>\n",
       "      <td>McGonagall</td>\n",
       "      <td>Then perhaps a map?</td>\n",
       "    </tr>\n",
       "    <tr>\n",
       "      <th>506</th>\n",
       "      <td>Sorting Hat</td>\n",
       "      <td>Plenty of courage, I see.</td>\n",
       "    </tr>\n",
       "  </tbody>\n",
       "</table>\n",
       "</div>"
      ],
      "text/plain": [
       "       Character                                           Sentence\n",
       "185        Harry                                          Blown up?\n",
       "553         Girl                                   Who's that girl?\n",
       "16    Dumbledore  Albus, do you really think it's safe, leaving ...\n",
       "571   McGonagall                                Then perhaps a map?\n",
       "506  Sorting Hat                          Plenty of courage, I see."
      ]
     },
     "metadata": {},
     "output_type": "display_data"
    },
    {
     "data": {
      "text/html": [
       "<div>\n",
       "<style scoped>\n",
       "    .dataframe tbody tr th:only-of-type {\n",
       "        vertical-align: middle;\n",
       "    }\n",
       "\n",
       "    .dataframe tbody tr th {\n",
       "        vertical-align: top;\n",
       "    }\n",
       "\n",
       "    .dataframe thead th {\n",
       "        text-align: right;\n",
       "    }\n",
       "</style>\n",
       "<table border=\"1\" class=\"dataframe\">\n",
       "  <thead>\n",
       "    <tr style=\"text-align: right;\">\n",
       "      <th></th>\n",
       "      <th>Character</th>\n",
       "      <th>Sentence</th>\n",
       "    </tr>\n",
       "  </thead>\n",
       "  <tbody>\n",
       "    <tr>\n",
       "      <th>643</th>\n",
       "      <td>MCGONAGALL</td>\n",
       "      <td>Could I have your attention,please?</td>\n",
       "    </tr>\n",
       "    <tr>\n",
       "      <th>106</th>\n",
       "      <td>UNCLE VERNON</td>\n",
       "      <td>Youre never going back to that school.</td>\n",
       "    </tr>\n",
       "    <tr>\n",
       "      <th>180</th>\n",
       "      <td>MRS. WEASLEY</td>\n",
       "      <td>Well, thatll be Errol with the post.</td>\n",
       "    </tr>\n",
       "    <tr>\n",
       "      <th>512</th>\n",
       "      <td>HARRY</td>\n",
       "      <td>Let's take him to Hagrid's.</td>\n",
       "    </tr>\n",
       "    <tr>\n",
       "      <th>60</th>\n",
       "      <td>HARRY</td>\n",
       "      <td>Your family?</td>\n",
       "    </tr>\n",
       "  </tbody>\n",
       "</table>\n",
       "</div>"
      ],
      "text/plain": [
       "         Character                                  Sentence\n",
       "643     MCGONAGALL       Could I have your attention,please?\n",
       "106  UNCLE VERNON   Youre never going back to that school. \n",
       "180  MRS. WEASLEY     Well, thatll be Errol with the post. \n",
       "512          HARRY               Let's take him to Hagrid's.\n",
       "60           HARRY                              Your family?"
      ]
     },
     "metadata": {},
     "output_type": "display_data"
    },
    {
     "data": {
      "text/html": [
       "<div>\n",
       "<style scoped>\n",
       "    .dataframe tbody tr th:only-of-type {\n",
       "        vertical-align: middle;\n",
       "    }\n",
       "\n",
       "    .dataframe tbody tr th {\n",
       "        vertical-align: top;\n",
       "    }\n",
       "\n",
       "    .dataframe thead th {\n",
       "        text-align: right;\n",
       "    }\n",
       "</style>\n",
       "<table border=\"1\" class=\"dataframe\">\n",
       "  <thead>\n",
       "    <tr style=\"text-align: right;\">\n",
       "      <th></th>\n",
       "      <th>CHARACTER</th>\n",
       "      <th>SENTENCE</th>\n",
       "    </tr>\n",
       "  </thead>\n",
       "  <tbody>\n",
       "    <tr>\n",
       "      <th>14</th>\n",
       "      <td>AUNT MARGE</td>\n",
       "      <td>Don't say 'yes' in that ungrateful way.</td>\n",
       "    </tr>\n",
       "    <tr>\n",
       "      <th>651</th>\n",
       "      <td>SNAPE</td>\n",
       "      <td>Any theories on how he managed it?</td>\n",
       "    </tr>\n",
       "    <tr>\n",
       "      <th>753</th>\n",
       "      <td>HARRY</td>\n",
       "      <td>What are you doing?!</td>\n",
       "    </tr>\n",
       "    <tr>\n",
       "      <th>1257</th>\n",
       "      <td>RON</td>\n",
       "      <td>What are you doing?</td>\n",
       "    </tr>\n",
       "    <tr>\n",
       "      <th>614</th>\n",
       "      <td>GINNY</td>\n",
       "      <td>The Fat Lady! She's gone!</td>\n",
       "    </tr>\n",
       "  </tbody>\n",
       "</table>\n",
       "</div>"
      ],
      "text/plain": [
       "       CHARACTER                                 SENTENCE\n",
       "14    AUNT MARGE  Don't say 'yes' in that ungrateful way.\n",
       "651        SNAPE       Any theories on how he managed it?\n",
       "753        HARRY                     What are you doing?!\n",
       "1257         RON                      What are you doing?\n",
       "614        GINNY                The Fat Lady! She's gone!"
      ]
     },
     "metadata": {},
     "output_type": "display_data"
    },
    {
     "data": {
      "text/html": [
       "<div>\n",
       "<style scoped>\n",
       "    .dataframe tbody tr th:only-of-type {\n",
       "        vertical-align: middle;\n",
       "    }\n",
       "\n",
       "    .dataframe tbody tr th {\n",
       "        vertical-align: top;\n",
       "    }\n",
       "\n",
       "    .dataframe thead th {\n",
       "        text-align: right;\n",
       "    }\n",
       "</style>\n",
       "<table border=\"1\" class=\"dataframe\">\n",
       "  <thead>\n",
       "    <tr style=\"text-align: right;\">\n",
       "      <th></th>\n",
       "      <th>Name</th>\n",
       "      <th>Known ingredients</th>\n",
       "      <th>Effect</th>\n",
       "      <th>Characteristics</th>\n",
       "      <th>Difficulty level</th>\n",
       "    </tr>\n",
       "  </thead>\n",
       "  <tbody>\n",
       "    <tr>\n",
       "      <th>51</th>\n",
       "      <td>Murtlap Essence</td>\n",
       "      <td>Murtlap tentacles</td>\n",
       "      <td>Soothes and heals cuts and abrasions</td>\n",
       "      <td>Blue in colour</td>\n",
       "      <td>NaN</td>\n",
       "    </tr>\n",
       "    <tr>\n",
       "      <th>58</th>\n",
       "      <td>Skele-Gro</td>\n",
       "      <td>1 Chinese Chomping Cabbage, 3 Puffer-fish, 5 S...</td>\n",
       "      <td>Restores bones</td>\n",
       "      <td>Smokes when poured, Vile taste, Burns on the w...</td>\n",
       "      <td>Above second year</td>\n",
       "    </tr>\n",
       "    <tr>\n",
       "      <th>55</th>\n",
       "      <td>Regeneration potion</td>\n",
       "      <td>Bone of the father, Flesh of a servant, Blood ...</td>\n",
       "      <td>Helps restore non-corporeal wizards to their b...</td>\n",
       "      <td>NaN</td>\n",
       "      <td>Advanced</td>\n",
       "    </tr>\n",
       "    <tr>\n",
       "      <th>28</th>\n",
       "      <td>Emerald Potion</td>\n",
       "      <td>Emerald green in colour, Glows phosphorescently</td>\n",
       "      <td>Induces fear, delirium, intense stomach pain a...</td>\n",
       "      <td>NaN</td>\n",
       "      <td>NaN</td>\n",
       "    </tr>\n",
       "    <tr>\n",
       "      <th>25</th>\n",
       "      <td>Draught of Living Death</td>\n",
       "      <td>Standard potioning water, Powdered Root of Asp...</td>\n",
       "      <td>Causes the drinker to fall into a deep, death-...</td>\n",
       "      <td>Turns pale lilac colour then clear</td>\n",
       "      <td>Advanced</td>\n",
       "    </tr>\n",
       "  </tbody>\n",
       "</table>\n",
       "</div>"
      ],
      "text/plain": [
       "                       Name  \\\n",
       "51          Murtlap Essence   \n",
       "58                Skele-Gro   \n",
       "55      Regeneration potion   \n",
       "28           Emerald Potion   \n",
       "25  Draught of Living Death   \n",
       "\n",
       "                                    Known ingredients  \\\n",
       "51                                  Murtlap tentacles   \n",
       "58  1 Chinese Chomping Cabbage, 3 Puffer-fish, 5 S...   \n",
       "55  Bone of the father, Flesh of a servant, Blood ...   \n",
       "28    Emerald green in colour, Glows phosphorescently   \n",
       "25  Standard potioning water, Powdered Root of Asp...   \n",
       "\n",
       "                                               Effect  \\\n",
       "51               Soothes and heals cuts and abrasions   \n",
       "58                                     Restores bones   \n",
       "55  Helps restore non-corporeal wizards to their b...   \n",
       "28  Induces fear, delirium, intense stomach pain a...   \n",
       "25  Causes the drinker to fall into a deep, death-...   \n",
       "\n",
       "                                      Characteristics   Difficulty level  \n",
       "51                                     Blue in colour                NaN  \n",
       "58  Smokes when poured, Vile taste, Burns on the w...  Above second year  \n",
       "55                                                NaN           Advanced  \n",
       "28                                                NaN                NaN  \n",
       "25                 Turns pale lilac colour then clear           Advanced  "
      ]
     },
     "metadata": {},
     "output_type": "display_data"
    },
    {
     "data": {
      "text/html": [
       "<div>\n",
       "<style scoped>\n",
       "    .dataframe tbody tr th:only-of-type {\n",
       "        vertical-align: middle;\n",
       "    }\n",
       "\n",
       "    .dataframe tbody tr th {\n",
       "        vertical-align: top;\n",
       "    }\n",
       "\n",
       "    .dataframe thead th {\n",
       "        text-align: right;\n",
       "    }\n",
       "</style>\n",
       "<table border=\"1\" class=\"dataframe\">\n",
       "  <thead>\n",
       "    <tr style=\"text-align: right;\">\n",
       "      <th></th>\n",
       "      <th>Name</th>\n",
       "      <th>Incantation</th>\n",
       "      <th>Type</th>\n",
       "      <th>Effect</th>\n",
       "      <th>Light</th>\n",
       "    </tr>\n",
       "  </thead>\n",
       "  <tbody>\n",
       "    <tr>\n",
       "      <th>92</th>\n",
       "      <td>Disarming Charm</td>\n",
       "      <td>Expelliarmus</td>\n",
       "      <td>Charm</td>\n",
       "      <td>Disarms an opponent</td>\n",
       "      <td>Scarlet</td>\n",
       "    </tr>\n",
       "    <tr>\n",
       "      <th>296</th>\n",
       "      <td>Waddiwasi</td>\n",
       "      <td>Waddiwasi</td>\n",
       "      <td>Jinx</td>\n",
       "      <td>Propels wad at the target</td>\n",
       "      <td>None</td>\n",
       "    </tr>\n",
       "    <tr>\n",
       "      <th>120</th>\n",
       "      <td>Freezing Spell</td>\n",
       "      <td>Glacius</td>\n",
       "      <td>Charm</td>\n",
       "      <td>Freezes target</td>\n",
       "      <td>Blue</td>\n",
       "    </tr>\n",
       "    <tr>\n",
       "      <th>142</th>\n",
       "      <td>Illegibilus</td>\n",
       "      <td>Illegibilus</td>\n",
       "      <td>Charm</td>\n",
       "      <td>Makes text illegible</td>\n",
       "      <td>NaN</td>\n",
       "    </tr>\n",
       "    <tr>\n",
       "      <th>277</th>\n",
       "      <td>Tickling Hex</td>\n",
       "      <td>Titillando</td>\n",
       "      <td>Hex</td>\n",
       "      <td>Tickles and weakens</td>\n",
       "      <td>Purple</td>\n",
       "    </tr>\n",
       "  </tbody>\n",
       "</table>\n",
       "</div>"
      ],
      "text/plain": [
       "                Name   Incantation   Type                     Effect    Light\n",
       "92   Disarming Charm  Expelliarmus  Charm        Disarms an opponent  Scarlet\n",
       "296        Waddiwasi     Waddiwasi   Jinx  Propels wad at the target     None\n",
       "120   Freezing Spell       Glacius  Charm             Freezes target     Blue\n",
       "142      Illegibilus   Illegibilus  Charm       Makes text illegible      NaN\n",
       "277     Tickling Hex    Titillando    Hex        Tickles and weakens   Purple"
      ]
     },
     "metadata": {},
     "output_type": "display_data"
    }
   ],
   "source": [
    "for df in list_df:\n",
    "    display(df.sample(5))"
   ]
  },
  {
   "cell_type": "code",
   "execution_count": 31,
   "metadata": {
    "collapsed": true
   },
   "outputs": [
    {
     "data": {
      "text/html": [
       "<div>\n",
       "<style scoped>\n",
       "    .dataframe tbody tr th:only-of-type {\n",
       "        vertical-align: middle;\n",
       "    }\n",
       "\n",
       "    .dataframe tbody tr th {\n",
       "        vertical-align: top;\n",
       "    }\n",
       "\n",
       "    .dataframe thead th {\n",
       "        text-align: right;\n",
       "    }\n",
       "</style>\n",
       "<table border=\"1\" class=\"dataframe\">\n",
       "  <thead>\n",
       "    <tr style=\"text-align: right;\">\n",
       "      <th></th>\n",
       "      <th>CHARACTER</th>\n",
       "      <th>SENTENCE</th>\n",
       "    </tr>\n",
       "  </thead>\n",
       "  <tbody>\n",
       "    <tr>\n",
       "      <th>0</th>\n",
       "      <td>HARRY</td>\n",
       "      <td>Lumos Maxima...</td>\n",
       "    </tr>\n",
       "    <tr>\n",
       "      <th>1</th>\n",
       "      <td>HARRY</td>\n",
       "      <td>Lumos Maxima...</td>\n",
       "    </tr>\n",
       "    <tr>\n",
       "      <th>2</th>\n",
       "      <td>HARRY</td>\n",
       "      <td>Lumos Maxima...</td>\n",
       "    </tr>\n",
       "    <tr>\n",
       "      <th>3</th>\n",
       "      <td>HARRY</td>\n",
       "      <td>Lumos... MAXIMA!</td>\n",
       "    </tr>\n",
       "    <tr>\n",
       "      <th>4</th>\n",
       "      <td>AUNT PETUNIA</td>\n",
       "      <td>Harry! Harry!</td>\n",
       "    </tr>\n",
       "    <tr>\n",
       "      <th>5</th>\n",
       "      <td>AUNT PETUNIA</td>\n",
       "      <td>Harry!! Open the door.</td>\n",
       "    </tr>\n",
       "    <tr>\n",
       "      <th>6</th>\n",
       "      <td>AUNT PETUNIA</td>\n",
       "      <td>Marge! How lovely to see…</td>\n",
       "    </tr>\n",
       "    <tr>\n",
       "      <th>7</th>\n",
       "      <td>HARRY</td>\n",
       "      <td>Uncle Vernon. I need you to sign this form.</td>\n",
       "    </tr>\n",
       "    <tr>\n",
       "      <th>8</th>\n",
       "      <td>UNCLE VERNON</td>\n",
       "      <td>What is it?</td>\n",
       "    </tr>\n",
       "    <tr>\n",
       "      <th>9</th>\n",
       "      <td>HARRY</td>\n",
       "      <td>Nothing. School stuff</td>\n",
       "    </tr>\n",
       "  </tbody>\n",
       "</table>\n",
       "</div>"
      ],
      "text/plain": [
       "      CHARACTER                                     SENTENCE\n",
       "0         HARRY                              Lumos Maxima...\n",
       "1         HARRY                              Lumos Maxima...\n",
       "2         HARRY                              Lumos Maxima...\n",
       "3         HARRY                             Lumos... MAXIMA!\n",
       "4  AUNT PETUNIA                                Harry! Harry!\n",
       "5  AUNT PETUNIA                       Harry!! Open the door.\n",
       "6  AUNT PETUNIA                    Marge! How lovely to see…\n",
       "7         HARRY  Uncle Vernon. I need you to sign this form.\n",
       "8  UNCLE VERNON                                  What is it?\n",
       "9         HARRY                        Nothing. School stuff"
      ]
     },
     "execution_count": 31,
     "metadata": {},
     "output_type": "execute_result"
    }
   ],
   "source": [
    "df_hp3 = list_df[2]\n",
    "df_hp3.head(10)"
   ]
  },
  {
   "cell_type": "code",
   "execution_count": 30,
   "metadata": {
    "collapsed": true
   },
   "outputs": [
    {
     "data": {
      "text/html": [
       "<div>\n",
       "<style scoped>\n",
       "    .dataframe tbody tr th:only-of-type {\n",
       "        vertical-align: middle;\n",
       "    }\n",
       "\n",
       "    .dataframe tbody tr th {\n",
       "        vertical-align: top;\n",
       "    }\n",
       "\n",
       "    .dataframe thead th {\n",
       "        text-align: right;\n",
       "    }\n",
       "</style>\n",
       "<table border=\"1\" class=\"dataframe\">\n",
       "  <thead>\n",
       "    <tr style=\"text-align: right;\">\n",
       "      <th></th>\n",
       "      <th>Character</th>\n",
       "      <th>Sentence</th>\n",
       "    </tr>\n",
       "  </thead>\n",
       "  <tbody>\n",
       "    <tr>\n",
       "      <th>0</th>\n",
       "      <td>HARRY</td>\n",
       "      <td>I can’t let you out, Hedwig.</td>\n",
       "    </tr>\n",
       "    <tr>\n",
       "      <th>1</th>\n",
       "      <td>HARRY</td>\n",
       "      <td>I’m not allowed to use magic outside of school.</td>\n",
       "    </tr>\n",
       "    <tr>\n",
       "      <th>2</th>\n",
       "      <td>HARRY</td>\n",
       "      <td>Besides, if Uncle Vernon…</td>\n",
       "    </tr>\n",
       "    <tr>\n",
       "      <th>3</th>\n",
       "      <td>VERNON</td>\n",
       "      <td>Harry Potter!</td>\n",
       "    </tr>\n",
       "    <tr>\n",
       "      <th>4</th>\n",
       "      <td>HARRY</td>\n",
       "      <td>Now you’ve done it.</td>\n",
       "    </tr>\n",
       "    <tr>\n",
       "      <th>5</th>\n",
       "      <td>PETUNIA</td>\n",
       "      <td>He’s in there. Vernon...</td>\n",
       "    </tr>\n",
       "    <tr>\n",
       "      <th>6</th>\n",
       "      <td>UNCLE VERNON</td>\n",
       "      <td>I’m warning you, if you can’t control that blo...</td>\n",
       "    </tr>\n",
       "    <tr>\n",
       "      <th>7</th>\n",
       "      <td>HARRY</td>\n",
       "      <td>But she’s bored!</td>\n",
       "    </tr>\n",
       "    <tr>\n",
       "      <th>8</th>\n",
       "      <td>HARRY</td>\n",
       "      <td>If I could only let out for an hour or two</td>\n",
       "    </tr>\n",
       "    <tr>\n",
       "      <th>9</th>\n",
       "      <td>VERNON</td>\n",
       "      <td>Huh, huh! So you could send secret messages to...</td>\n",
       "    </tr>\n",
       "  </tbody>\n",
       "</table>\n",
       "</div>"
      ],
      "text/plain": [
       "      Character                                           Sentence\n",
       "0        HARRY                       I can’t let you out, Hedwig. \n",
       "1        HARRY    I’m not allowed to use magic outside of school. \n",
       "2        HARRY                           Besides, if Uncle Vernon…\n",
       "3        VERNON                                      Harry Potter!\n",
       "4         HARRY                                Now you’ve done it.\n",
       "5       PETUNIA                           He’s in there. Vernon...\n",
       "6  UNCLE VERNON  I’m warning you, if you can’t control that blo...\n",
       "7         HARRY                                  But she’s bored! \n",
       "8         HARRY         If I could only let out for an hour or two\n",
       "9        VERNON  Huh, huh! So you could send secret messages to..."
      ]
     },
     "execution_count": 30,
     "metadata": {},
     "output_type": "execute_result"
    }
   ],
   "source": [
    "df_hp2 = list_df[1]\n",
    "df_hp2.head(10)"
   ]
  },
  {
   "cell_type": "markdown",
   "metadata": {},
   "source": [
    "# Cleaning Data"
   ]
  },
  {
   "cell_type": "markdown",
   "metadata": {},
   "source": [
    "### Make character name in Harry Potter 1 dataset uppercase"
   ]
  },
  {
   "cell_type": "code",
   "execution_count": 41,
   "metadata": {},
   "outputs": [
    {
     "data": {
      "text/html": [
       "<div>\n",
       "<style scoped>\n",
       "    .dataframe tbody tr th:only-of-type {\n",
       "        vertical-align: middle;\n",
       "    }\n",
       "\n",
       "    .dataframe tbody tr th {\n",
       "        vertical-align: top;\n",
       "    }\n",
       "\n",
       "    .dataframe thead th {\n",
       "        text-align: right;\n",
       "    }\n",
       "</style>\n",
       "<table border=\"1\" class=\"dataframe\">\n",
       "  <thead>\n",
       "    <tr style=\"text-align: right;\">\n",
       "      <th></th>\n",
       "      <th>Character</th>\n",
       "      <th>Sentence</th>\n",
       "    </tr>\n",
       "  </thead>\n",
       "  <tbody>\n",
       "    <tr>\n",
       "      <th>99</th>\n",
       "      <td>PETUNIA</td>\n",
       "      <td>You're going to go to the state school.</td>\n",
       "    </tr>\n",
       "    <tr>\n",
       "      <th>1099</th>\n",
       "      <td>NEVILLE</td>\n",
       "      <td>What about the countercurse?</td>\n",
       "    </tr>\n",
       "    <tr>\n",
       "      <th>578</th>\n",
       "      <td>SNAPE</td>\n",
       "      <td>Mr. Potter.</td>\n",
       "    </tr>\n",
       "    <tr>\n",
       "      <th>1028</th>\n",
       "      <td>HARRY</td>\n",
       "      <td>Ron! You've got to see this!</td>\n",
       "    </tr>\n",
       "    <tr>\n",
       "      <th>36</th>\n",
       "      <td>HARRY</td>\n",
       "      <td>Yes, Aunt Petunia.</td>\n",
       "    </tr>\n",
       "    <tr>\n",
       "      <th>332</th>\n",
       "      <td>HAGRID</td>\n",
       "      <td>Nobody, not one.</td>\n",
       "    </tr>\n",
       "    <tr>\n",
       "      <th>367</th>\n",
       "      <td>HARRY</td>\n",
       "      <td>Muggles?</td>\n",
       "    </tr>\n",
       "    <tr>\n",
       "      <th>329</th>\n",
       "      <td>HAGRID</td>\n",
       "      <td>Anyone that stood up to him ended up dead.</td>\n",
       "    </tr>\n",
       "    <tr>\n",
       "      <th>677</th>\n",
       "      <td>RON</td>\n",
       "      <td>But first years never make their house teams!</td>\n",
       "    </tr>\n",
       "    <tr>\n",
       "      <th>723</th>\n",
       "      <td>HERMIONE</td>\n",
       "      <td>Standard book of spells, Chapter 7.</td>\n",
       "    </tr>\n",
       "  </tbody>\n",
       "</table>\n",
       "</div>"
      ],
      "text/plain": [
       "      Character                                        Sentence\n",
       "99      PETUNIA         You're going to go to the state school.\n",
       "1099    NEVILLE                    What about the countercurse?\n",
       "578       SNAPE                                     Mr. Potter.\n",
       "1028    HARRY                     Ron! You've got to see this! \n",
       "36        HARRY                              Yes, Aunt Petunia.\n",
       "332      HAGRID                                Nobody, not one.\n",
       "367       HARRY                                        Muggles?\n",
       "329      HAGRID      Anyone that stood up to him ended up dead.\n",
       "677         RON  But first years never make their house teams! \n",
       "723   HERMIONE              Standard book of spells, Chapter 7."
      ]
     },
     "execution_count": 41,
     "metadata": {},
     "output_type": "execute_result"
    }
   ],
   "source": [
    "list_df[0].Character = list_df[0].Character.map(lambda x: x.upper())\n",
    "list_df[0].sample(10)"
   ]
  },
  {
   "cell_type": "markdown",
   "metadata": {},
   "source": [
    "### Rename the column name in Harry Potter 3 dataset"
   ]
  },
  {
   "cell_type": "code",
   "execution_count": 44,
   "metadata": {},
   "outputs": [
    {
     "data": {
      "text/plain": [
       "Index(['Character', 'Sentence'], dtype='object')"
      ]
     },
     "execution_count": 44,
     "metadata": {},
     "output_type": "execute_result"
    }
   ],
   "source": [
    "list_df[2].columns = list(map(str.title, list_df[2].columns))\n",
    "list_df[2].columns"
   ]
  },
  {
   "cell_type": "markdown",
   "metadata": {},
   "source": [
    "### Check all dataframes"
   ]
  },
  {
   "cell_type": "code",
   "execution_count": 45,
   "metadata": {},
   "outputs": [
    {
     "data": {
      "text/html": [
       "<div>\n",
       "<style scoped>\n",
       "    .dataframe tbody tr th:only-of-type {\n",
       "        vertical-align: middle;\n",
       "    }\n",
       "\n",
       "    .dataframe tbody tr th {\n",
       "        vertical-align: top;\n",
       "    }\n",
       "\n",
       "    .dataframe thead th {\n",
       "        text-align: right;\n",
       "    }\n",
       "</style>\n",
       "<table border=\"1\" class=\"dataframe\">\n",
       "  <thead>\n",
       "    <tr style=\"text-align: right;\">\n",
       "      <th></th>\n",
       "      <th>Character</th>\n",
       "      <th>Sentence</th>\n",
       "    </tr>\n",
       "  </thead>\n",
       "  <tbody>\n",
       "    <tr>\n",
       "      <th>686</th>\n",
       "      <td>GEORGE</td>\n",
       "      <td>Rough game, Quidditch.</td>\n",
       "    </tr>\n",
       "    <tr>\n",
       "      <th>1296</th>\n",
       "      <td>MCGONAGALL</td>\n",
       "      <td>He received an urgent owl from the Ministry of...</td>\n",
       "    </tr>\n",
       "    <tr>\n",
       "      <th>84</th>\n",
       "      <td>PETUNIA</td>\n",
       "      <td>It's all right, sweetheart.</td>\n",
       "    </tr>\n",
       "    <tr>\n",
       "      <th>1402</th>\n",
       "      <td>RON</td>\n",
       "      <td>If Snape can catch it on that old broomstick, ...</td>\n",
       "    </tr>\n",
       "    <tr>\n",
       "      <th>1380</th>\n",
       "      <td>HARRY</td>\n",
       "      <td>Okay.</td>\n",
       "    </tr>\n",
       "  </tbody>\n",
       "</table>\n",
       "</div>"
      ],
      "text/plain": [
       "         Character                                           Sentence\n",
       "686       GEORGE                               Rough game, Quidditch.\n",
       "1296  MCGONAGALL    He received an urgent owl from the Ministry of...\n",
       "84         PETUNIA                        It's all right, sweetheart.\n",
       "1402         RON    If Snape can catch it on that old broomstick, ...\n",
       "1380       HARRY                                                Okay."
      ]
     },
     "metadata": {},
     "output_type": "display_data"
    },
    {
     "data": {
      "text/html": [
       "<div>\n",
       "<style scoped>\n",
       "    .dataframe tbody tr th:only-of-type {\n",
       "        vertical-align: middle;\n",
       "    }\n",
       "\n",
       "    .dataframe tbody tr th {\n",
       "        vertical-align: top;\n",
       "    }\n",
       "\n",
       "    .dataframe thead th {\n",
       "        text-align: right;\n",
       "    }\n",
       "</style>\n",
       "<table border=\"1\" class=\"dataframe\">\n",
       "  <thead>\n",
       "    <tr style=\"text-align: right;\">\n",
       "      <th></th>\n",
       "      <th>Character</th>\n",
       "      <th>Sentence</th>\n",
       "    </tr>\n",
       "  </thead>\n",
       "  <tbody>\n",
       "    <tr>\n",
       "      <th>571</th>\n",
       "      <td>HARRY</td>\n",
       "      <td>I heard it first in Lockhart's office.</td>\n",
       "    </tr>\n",
       "    <tr>\n",
       "      <th>733</th>\n",
       "      <td>LEE JORDAN</td>\n",
       "      <td>Harry Potter has caught the Snitch.</td>\n",
       "    </tr>\n",
       "    <tr>\n",
       "      <th>96</th>\n",
       "      <td>HARRY</td>\n",
       "      <td>Dobby, please, no!</td>\n",
       "    </tr>\n",
       "    <tr>\n",
       "      <th>1519</th>\n",
       "      <td>TOM RIDDLE</td>\n",
       "      <td>And then who should find it but you?</td>\n",
       "    </tr>\n",
       "    <tr>\n",
       "      <th>560</th>\n",
       "      <td>VOICE</td>\n",
       "      <td>I smell blood.</td>\n",
       "    </tr>\n",
       "  </tbody>\n",
       "</table>\n",
       "</div>"
      ],
      "text/plain": [
       "       Character                                Sentence\n",
       "571        HARRY  I heard it first in Lockhart's office.\n",
       "733   LEE JORDAN     Harry Potter has caught the Snitch.\n",
       "96        HARRY                       Dobby, please, no!\n",
       "1519  TOM RIDDLE    And then who should find it but you?\n",
       "560        VOICE                          I smell blood."
      ]
     },
     "metadata": {},
     "output_type": "display_data"
    },
    {
     "data": {
      "text/html": [
       "<div>\n",
       "<style scoped>\n",
       "    .dataframe tbody tr th:only-of-type {\n",
       "        vertical-align: middle;\n",
       "    }\n",
       "\n",
       "    .dataframe tbody tr th {\n",
       "        vertical-align: top;\n",
       "    }\n",
       "\n",
       "    .dataframe thead th {\n",
       "        text-align: right;\n",
       "    }\n",
       "</style>\n",
       "<table border=\"1\" class=\"dataframe\">\n",
       "  <thead>\n",
       "    <tr style=\"text-align: right;\">\n",
       "      <th></th>\n",
       "      <th>Character</th>\n",
       "      <th>Sentence</th>\n",
       "    </tr>\n",
       "  </thead>\n",
       "  <tbody>\n",
       "    <tr>\n",
       "      <th>1288</th>\n",
       "      <td>SIRIUS</td>\n",
       "      <td>Normally, I have a very sweet disposition as a...</td>\n",
       "    </tr>\n",
       "    <tr>\n",
       "      <th>776</th>\n",
       "      <td>HARRY</td>\n",
       "      <td>Brilliant! Where did you get it?</td>\n",
       "    </tr>\n",
       "    <tr>\n",
       "      <th>1232</th>\n",
       "      <td>LUPIN</td>\n",
       "      <td>He was at school with us.</td>\n",
       "    </tr>\n",
       "    <tr>\n",
       "      <th>1608</th>\n",
       "      <td>LUPIN</td>\n",
       "      <td>If I am proud of anything it is of how much yo...</td>\n",
       "    </tr>\n",
       "    <tr>\n",
       "      <th>988</th>\n",
       "      <td>HARRY</td>\n",
       "      <td>My dad didn't strut. And nor do I.</td>\n",
       "    </tr>\n",
       "  </tbody>\n",
       "</table>\n",
       "</div>"
      ],
      "text/plain": [
       "     Character                                           Sentence\n",
       "1288    SIRIUS  Normally, I have a very sweet disposition as a...\n",
       "776      HARRY                   Brilliant! Where did you get it?\n",
       "1232     LUPIN                          He was at school with us.\n",
       "1608     LUPIN  If I am proud of anything it is of how much yo...\n",
       "988      HARRY                 My dad didn't strut. And nor do I."
      ]
     },
     "metadata": {},
     "output_type": "display_data"
    },
    {
     "data": {
      "text/html": [
       "<div>\n",
       "<style scoped>\n",
       "    .dataframe tbody tr th:only-of-type {\n",
       "        vertical-align: middle;\n",
       "    }\n",
       "\n",
       "    .dataframe tbody tr th {\n",
       "        vertical-align: top;\n",
       "    }\n",
       "\n",
       "    .dataframe thead th {\n",
       "        text-align: right;\n",
       "    }\n",
       "</style>\n",
       "<table border=\"1\" class=\"dataframe\">\n",
       "  <thead>\n",
       "    <tr style=\"text-align: right;\">\n",
       "      <th></th>\n",
       "      <th>Name</th>\n",
       "      <th>Known ingredients</th>\n",
       "      <th>Effect</th>\n",
       "      <th>Characteristics</th>\n",
       "      <th>Difficulty level</th>\n",
       "    </tr>\n",
       "  </thead>\n",
       "  <tbody>\n",
       "    <tr>\n",
       "      <th>52</th>\n",
       "      <td>Pepperup Potion</td>\n",
       "      <td>Bicorn horn, Mandrake root</td>\n",
       "      <td>Warms up the recipient and cures common cold, ...</td>\n",
       "      <td>NaN</td>\n",
       "      <td>NaN</td>\n",
       "    </tr>\n",
       "    <tr>\n",
       "      <th>37</th>\n",
       "      <td>Forgetfulness Potion</td>\n",
       "      <td>2 drops of Lethe River Water, 2 Valerian sprig...</td>\n",
       "      <td>Memory loss</td>\n",
       "      <td>Orange in colour</td>\n",
       "      <td>Beginner</td>\n",
       "    </tr>\n",
       "    <tr>\n",
       "      <th>23</th>\n",
       "      <td>Doxycide</td>\n",
       "      <td>Bundimun Ooze, Streeler shells, Dragon liver, ...</td>\n",
       "      <td>Temporarily stuns Doxies so that the pests can...</td>\n",
       "      <td>Black in colour, Typically delivered as a spray</td>\n",
       "      <td>NaN</td>\n",
       "    </tr>\n",
       "    <tr>\n",
       "      <th>19</th>\n",
       "      <td>Cure for Boils</td>\n",
       "      <td>Dried nettles, 6 snake fangs, 4 horned slugs, ...</td>\n",
       "      <td>Removes boils</td>\n",
       "      <td>Blue, Emits pink smoke</td>\n",
       "      <td>Beginner</td>\n",
       "    </tr>\n",
       "    <tr>\n",
       "      <th>35</th>\n",
       "      <td>Fergus Fungal Budge</td>\n",
       "      <td>Onion juice, Jewelweed, Neem oil</td>\n",
       "      <td>Treats ringworm, fungicide, Potential negative...</td>\n",
       "      <td>NaN</td>\n",
       "      <td>NaN</td>\n",
       "    </tr>\n",
       "  </tbody>\n",
       "</table>\n",
       "</div>"
      ],
      "text/plain": [
       "                    Name                                  Known ingredients  \\\n",
       "52       Pepperup Potion                         Bicorn horn, Mandrake root   \n",
       "37  Forgetfulness Potion  2 drops of Lethe River Water, 2 Valerian sprig...   \n",
       "23              Doxycide  Bundimun Ooze, Streeler shells, Dragon liver, ...   \n",
       "19        Cure for Boils  Dried nettles, 6 snake fangs, 4 horned slugs, ...   \n",
       "35   Fergus Fungal Budge                   Onion juice, Jewelweed, Neem oil   \n",
       "\n",
       "                                               Effect  \\\n",
       "52  Warms up the recipient and cures common cold, ...   \n",
       "37                                        Memory loss   \n",
       "23  Temporarily stuns Doxies so that the pests can...   \n",
       "19                                      Removes boils   \n",
       "35  Treats ringworm, fungicide, Potential negative...   \n",
       "\n",
       "                                    Characteristics Difficulty level  \n",
       "52                                              NaN              NaN  \n",
       "37                                 Orange in colour         Beginner  \n",
       "23  Black in colour, Typically delivered as a spray              NaN  \n",
       "19                           Blue, Emits pink smoke         Beginner  \n",
       "35                                              NaN              NaN  "
      ]
     },
     "metadata": {},
     "output_type": "display_data"
    },
    {
     "data": {
      "text/html": [
       "<div>\n",
       "<style scoped>\n",
       "    .dataframe tbody tr th:only-of-type {\n",
       "        vertical-align: middle;\n",
       "    }\n",
       "\n",
       "    .dataframe tbody tr th {\n",
       "        vertical-align: top;\n",
       "    }\n",
       "\n",
       "    .dataframe thead th {\n",
       "        text-align: right;\n",
       "    }\n",
       "</style>\n",
       "<table border=\"1\" class=\"dataframe\">\n",
       "  <thead>\n",
       "    <tr style=\"text-align: right;\">\n",
       "      <th></th>\n",
       "      <th>Name</th>\n",
       "      <th>Incantation</th>\n",
       "      <th>Type</th>\n",
       "      <th>Effect</th>\n",
       "      <th>Light</th>\n",
       "    </tr>\n",
       "  </thead>\n",
       "  <tbody>\n",
       "    <tr>\n",
       "      <th>197</th>\n",
       "      <td>Pack</td>\n",
       "      <td>Pack</td>\n",
       "      <td>Charm</td>\n",
       "      <td>Packs luggage</td>\n",
       "      <td>None</td>\n",
       "    </tr>\n",
       "    <tr>\n",
       "      <th>100</th>\n",
       "      <td>Fidelius Charm</td>\n",
       "      <td>Unknown</td>\n",
       "      <td>Charm</td>\n",
       "      <td>Conceals a secret</td>\n",
       "      <td>NaN</td>\n",
       "    </tr>\n",
       "    <tr>\n",
       "      <th>154</th>\n",
       "      <td>Informous Spell</td>\n",
       "      <td>Informous</td>\n",
       "      <td>Charm</td>\n",
       "      <td>Adds to the Folio Bruti</td>\n",
       "      <td>Blue</td>\n",
       "    </tr>\n",
       "    <tr>\n",
       "      <th>279</th>\n",
       "      <td>Transmogrifian Torture</td>\n",
       "      <td>Unknown</td>\n",
       "      <td>Curse</td>\n",
       "      <td>Tortures, possibly by transfiguring the target...</td>\n",
       "      <td>NaN</td>\n",
       "    </tr>\n",
       "    <tr>\n",
       "      <th>12</th>\n",
       "      <td>Revealing Charm</td>\n",
       "      <td>Aparecium</td>\n",
       "      <td>Charm</td>\n",
       "      <td>Reveals hidden writing</td>\n",
       "      <td>NaN</td>\n",
       "    </tr>\n",
       "  </tbody>\n",
       "</table>\n",
       "</div>"
      ],
      "text/plain": [
       "                       Name Incantation   Type  \\\n",
       "197                    Pack        Pack  Charm   \n",
       "100          Fidelius Charm     Unknown  Charm   \n",
       "154         Informous Spell   Informous  Charm   \n",
       "279  Transmogrifian Torture     Unknown  Curse   \n",
       "12          Revealing Charm   Aparecium  Charm   \n",
       "\n",
       "                                                Effect Light  \n",
       "197                                      Packs luggage  None  \n",
       "100                                  Conceals a secret   NaN  \n",
       "154                            Adds to the Folio Bruti  Blue  \n",
       "279  Tortures, possibly by transfiguring the target...   NaN  \n",
       "12                              Reveals hidden writing   NaN  "
      ]
     },
     "metadata": {},
     "output_type": "display_data"
    }
   ],
   "source": [
    "for df in list_df:\n",
    "    display(df.sample(5))"
   ]
  },
  {
   "cell_type": "markdown",
   "metadata": {},
   "source": [
    "# Upload to Database"
   ]
  },
  {
   "cell_type": "code",
   "execution_count": 2,
   "metadata": {},
   "outputs": [
    {
     "data": {
      "text/plain": [
       "True"
      ]
     },
     "execution_count": 2,
     "metadata": {},
     "output_type": "execute_result"
    }
   ],
   "source": [
    "load_dotenv()"
   ]
  },
  {
   "cell_type": "code",
   "execution_count": 46,
   "metadata": {},
   "outputs": [],
   "source": [
    "db_uri = os.getenv('SQLALCHEMY_DATABASE_URI')\n",
    "engine = db.create_engine(db_uri, encoding='cp1252')\n",
    "conn = engine.connect()"
   ]
  },
  {
   "cell_type": "code",
   "execution_count": 48,
   "metadata": {},
   "outputs": [],
   "source": [
    "for df in list_df:\n",
    "    df.to_sql(df.name, conn, if_exists='replace')"
   ]
  },
  {
   "cell_type": "code",
   "execution_count": 51,
   "metadata": {},
   "outputs": [],
   "source": [
    "meta = db.MetaData(engine)"
   ]
  },
  {
   "cell_type": "code",
   "execution_count": 55,
   "metadata": {},
   "outputs": [],
   "source": [
    "meta.reflect(engine)"
   ]
  },
  {
   "cell_type": "code",
   "execution_count": 58,
   "metadata": {},
   "outputs": [
    {
     "data": {
      "text/plain": [
       "['index', 'Name', 'Incantation', 'Type', 'Effect', 'Light']"
      ]
     },
     "execution_count": 58,
     "metadata": {},
     "output_type": "execute_result"
    }
   ],
   "source": [
    "db.Table('Spells', meta, autoload=True, autoload_with=engine).columns.keys()"
   ]
  }
 ],
 "metadata": {
  "kernelspec": {
   "display_name": "Python 3",
   "language": "python",
   "name": "python3"
  },
  "language_info": {
   "codemirror_mode": {
    "name": "ipython",
    "version": 3
   },
   "file_extension": ".py",
   "mimetype": "text/x-python",
   "name": "python",
   "nbconvert_exporter": "python",
   "pygments_lexer": "ipython3",
   "version": "3.9.0"
  }
 },
 "nbformat": 4,
 "nbformat_minor": 4
}
